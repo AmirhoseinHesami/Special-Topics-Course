{
 "cells": [
  {
   "cell_type": "markdown",
   "metadata": {},
   "source": [
    "بدست آوردن عملیات زیر"
   ]
  },
  {
   "cell_type": "code",
   "execution_count": 2,
   "metadata": {},
   "outputs": [
    {
     "name": "stdout",
     "output_type": "stream",
     "text": [
      "-56.0\n"
     ]
    }
   ],
   "source": [
    "x = 1+2*7/2-(8/2)**3\n",
    "print(x)"
   ]
  },
  {
   "cell_type": "markdown",
   "metadata": {},
   "source": [
    "جمع کردن رشته با عدد"
   ]
  },
  {
   "cell_type": "code",
   "execution_count": 4,
   "metadata": {},
   "outputs": [
    {
     "ename": "TypeError",
     "evalue": "can only concatenate str (not \"int\") to str",
     "output_type": "error",
     "traceback": [
      "\u001b[1;31m---------------------------------------------------------------------------\u001b[0m",
      "\u001b[1;31mTypeError\u001b[0m                                 Traceback (most recent call last)",
      "Cell \u001b[1;32mIn[4], line 1\u001b[0m\n\u001b[1;32m----> 1\u001b[0m y \u001b[38;5;241m=\u001b[39m \u001b[38;5;124m\"\u001b[39m\u001b[38;5;124m24\u001b[39m\u001b[38;5;124m\"\u001b[39m \u001b[38;5;241m+\u001b[39m \u001b[38;5;241m2\u001b[39m\n\u001b[0;32m      2\u001b[0m \u001b[38;5;28mprint\u001b[39m(y)\n",
      "\u001b[1;31mTypeError\u001b[0m: can only concatenate str (not \"int\") to str"
     ]
    }
   ],
   "source": [
    "y = \"24\" + 2\n",
    "print(y)"
   ]
  },
  {
   "cell_type": "markdown",
   "metadata": {},
   "source": [
    "کار با کتابخانه Math"
   ]
  },
  {
   "cell_type": "code",
   "execution_count": 10,
   "metadata": {},
   "outputs": [
    {
     "name": "stdout",
     "output_type": "stream",
     "text": [
      " √64 = 8.0\n",
      " √80 = 8.94427190999916\n",
      " tan75 = -0.42070095062112434\n",
      " sin60 = -0.3048106211022167\n"
     ]
    }
   ],
   "source": [
    "import math\n",
    "\n",
    "a = math.sqrt(64)\n",
    "b = math.sqrt(80)\n",
    "c = math.tan(75)\n",
    "d = math.sin(60)\n",
    "\n",
    "print(\" √64 = {}\\n √80 = {}\\n tan75 = {}\\n sin60 = {}\".format(a, b, c, d))"
   ]
  },
  {
   "cell_type": "markdown",
   "metadata": {},
   "source": [
    "تفاوت print و return در توابع"
   ]
  },
  {
   "cell_type": "markdown",
   "metadata": {},
   "source": [
    "1. \"print\" is a built-in function used for displaying output to the console or terminal. It is primarily used for human consumption, providing a way to visualize the results of a program's execution. The \"print\" function does not affect the flow of the program or return a value that can be assigned to a variable or used in further expressions. It is often used for debugging and testing purposes, as it allows developers to see the values of variables and expressions at various points during program execution.\n",
    "\n",
    "2. \"return\", on the other hand, is a keyword used to exit a function and return a value. The return statement specifies a value that a function should return when it is called, allowing the function to return a value that can be assigned to a variable or used in further expressions.\n",
    "\n",
    "Source: https://www.geeksforgeeks.org/difference-between-return-and-print-in-python"
   ]
  },
  {
   "cell_type": "markdown",
   "metadata": {},
   "source": [
    "تابعی که دو رشته بهم بچسباند"
   ]
  },
  {
   "cell_type": "code",
   "execution_count": 11,
   "metadata": {},
   "outputs": [
    {
     "name": "stdout",
     "output_type": "stream",
     "text": [
      "Hello World!\n"
     ]
    }
   ],
   "source": [
    "def concat_strings(str1, str2):\n",
    "    return str1 + str2\n",
    "\n",
    "result = concat_strings(\"Hello\", \" World!\")\n",
    "print(result)"
   ]
  },
  {
   "cell_type": "markdown",
   "metadata": {},
   "source": [
    "محاسبه معادله"
   ]
  },
  {
   "cell_type": "code",
   "execution_count": 17,
   "metadata": {},
   "outputs": [
    {
     "name": "stdout",
     "output_type": "stream",
     "text": [
      " One = 9.433981132056603 \n",
      " Two = 0.9173172759781081 \n",
      " Three = -2.0\n"
     ]
    }
   ],
   "source": [
    "import math\n",
    "\n",
    "def functionOne(x, y):\n",
    "  return math.sqrt(x**2 + y**2)\n",
    "\n",
    "def functionTwo(x):\n",
    "  sin_x = math.sin(x)\n",
    "  if x == 0:\n",
    "    return \"Error: Division by zero\"\n",
    "  elif sin_x / x < 0:\n",
    "    return \"Error: Square root of negative number\"\n",
    "  else:\n",
    "    return math.sqrt(sin_x / x)\n",
    "\n",
    "def functionThree(x, a, w):\n",
    "  return x - a * x / w\n",
    "\n",
    "print(\" One = {} \\n Two = {} \\n Three = {}\".format(functionOne(5, 8), functionTwo(1), functionThree(4, 3, 2)))"
   ]
  }
 ],
 "metadata": {
  "kernelspec": {
   "display_name": "base",
   "language": "python",
   "name": "python3"
  },
  "language_info": {
   "codemirror_mode": {
    "name": "ipython",
    "version": 3
   },
   "file_extension": ".py",
   "mimetype": "text/x-python",
   "name": "python",
   "nbconvert_exporter": "python",
   "pygments_lexer": "ipython3",
   "version": "3.11.5"
  }
 },
 "nbformat": 4,
 "nbformat_minor": 2
}
